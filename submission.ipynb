{
  "cells": [
    {
      "cell_type": "markdown",
      "metadata": {
        "id": "view-in-github",
        "colab_type": "text"
      },
      "source": [
        "<a href=\"https://colab.research.google.com/github/mithunmohanan1982/ADMET_MapLight_TDC/blob/main/submission.ipynb\" target=\"_parent\"><img src=\"https://colab.research.google.com/assets/colab-badge.svg\" alt=\"Open In Colab\"/></a>"
      ]
    },
    {
      "cell_type": "markdown",
      "metadata": {
        "id": "pMKEkWfnu_K2"
      },
      "source": [
        "[![Open In Colab](https://colab.research.google.com/assets/colab-badge.svg)](https://colab.research.google.com/github/maplightrx/MapLight-TDC/blob/main/submission.ipynb)"
      ]
    },
    {
      "cell_type": "code",
      "execution_count": null,
      "metadata": {
        "id": "6qLqsnUOu_K4"
      },
      "outputs": [],
      "source": [
        "!curl -o maplight.py https://raw.githubusercontent.com/maplightrx/MapLight-TDC/main/maplight.py"
      ]
    },
    {
      "cell_type": "code",
      "execution_count": null,
      "metadata": {
        "id": "HB8sGrNwu_K5"
      },
      "outputs": [],
      "source": [
        "# installs for Colab\n",
        "!pip install rdkit PyTDC tqdm catboost"
      ]
    },
    {
      "cell_type": "code",
      "execution_count": null,
      "metadata": {
        "id": "r3M3fVBqu_K5"
      },
      "outputs": [],
      "source": [
        "from maplight import *\n",
        "from tqdm import tqdm\n",
        "import catboost as cb\n",
        "\n",
        "from tdc.benchmark_group import admet_group"
      ]
    },
    {
      "cell_type": "code",
      "execution_count": null,
      "metadata": {
        "id": "VT8URMoKu_K5"
      },
      "outputs": [],
      "source": [
        "benchmark_config = {\n",
        "    'caco2_wang': ('regression', False),\n",
        "    'bioavailability_ma': ('binary', False),\n",
        "    'lipophilicity_astrazeneca': ('regression', False),\n",
        "    'solubility_aqsoldb': ('regression', False),\n",
        "    'hia_hou': ('binary', False),\n",
        "    'pgp_broccatelli': ('binary', False),\n",
        "    'bbb_martins': ('binary', False),\n",
        "    'ppbr_az': ('regression', False),\n",
        "    'vdss_lombardo': ('regression', True),\n",
        "    'cyp2c9_veith': ('binary', False),\n",
        "    'cyp2d6_veith': ('binary', False),\n",
        "    'cyp3a4_veith': ('binary', False),\n",
        "    'cyp2c9_substrate_carbonmangels': ('binary', False),\n",
        "    'cyp2d6_substrate_carbonmangels': ('binary', False),\n",
        "    'cyp3a4_substrate_carbonmangels': ('binary', False),\n",
        "    'half_life_obach': ('regression', True),\n",
        "    'clearance_hepatocyte_az': ('regression', True),\n",
        "    'clearance_microsome_az': ('regression', True),\n",
        "    'ld50_zhu': ('regression', False),\n",
        "    'herg': ('binary', False),\n",
        "    'ames': ('binary', False),\n",
        "    'dili': ('binary', False)\n",
        "}"
      ]
    },
    {
      "cell_type": "code",
      "execution_count": null,
      "metadata": {
        "id": "zuApot-iu_K6"
      },
      "outputs": [],
      "source": [
        "group = admet_group(path = 'data/')\n",
        "\n",
        "# change comment to run all benchmarks\n",
        "# for admet_benchmark in benchmark_config.keys():\n",
        "for admet_benchmark in [list(benchmark_config.keys())[7]]:\n",
        "    predictions_list = []\n",
        "    for seed in tqdm([1, 2, 3, 4, 5]):\n",
        "        benchmark = group.get(admet_benchmark)\n",
        "        predictions = {}\n",
        "        name = benchmark['name']\n",
        "        train, test = benchmark['train_val'], benchmark['test']\n",
        "\n",
        "        # --------------------------------------------- #\n",
        "        #  Train your model using train, valid, test    #\n",
        "        #  Save test prediction in y_pred_test variable #\n",
        "        X_train = get_fingerprints(train['Drug'])\n",
        "        X_test = get_fingerprints(test['Drug'])\n",
        "\n",
        "        task, log_scale = benchmark_config[name]\n",
        "        params = {\n",
        "                'random_strength': 2,\n",
        "                'random_seed': seed,\n",
        "                'verbose': 0,\n",
        "            }\n",
        "\n",
        "        if task == 'regression':\n",
        "            Y_scaler = scaler(log=log_scale)\n",
        "            Y_scaler.fit(train['Y'].values)\n",
        "            train['Y_scale'] = Y_scaler.transform(train['Y'].values)\n",
        "\n",
        "            params['loss_function'] = 'MAE'\n",
        "            model = cb.CatBoostRegressor(**params)\n",
        "            model.fit(X_train, train['Y_scale'].values)\n",
        "\n",
        "            y_pred_test = Y_scaler.inverse_transform(model.predict(X_test)).reshape(-1)\n",
        "        elif task == 'binary':\n",
        "            params['loss_function'] = 'Logloss'\n",
        "            model = cb.CatBoostClassifier(**params)\n",
        "            model.fit(X_train, train['Y'].values)\n",
        "\n",
        "            y_pred_test = model.predict_proba(X_test)[:, 1]\n",
        "        # --------------------------------------------- #\n",
        "\n",
        "        predictions[name] = y_pred_test\n",
        "        predictions_list.append(predictions)\n",
        "\n",
        "    results = group.evaluate_many(predictions_list)\n",
        "    print('\\n\\n{}'.format(results))"
      ]
    }
  ],
  "metadata": {
    "language_info": {
      "name": "python"
    },
    "orig_nbformat": 4,
    "colab": {
      "provenance": [],
      "machine_shape": "hm",
      "gpuType": "L4",
      "include_colab_link": true
    },
    "accelerator": "GPU"
  },
  "nbformat": 4,
  "nbformat_minor": 0
}